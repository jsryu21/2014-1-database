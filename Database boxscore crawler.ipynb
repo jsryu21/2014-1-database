{
 "metadata": {
  "name": "boxscore"
 },
 "nbformat": 3,
 "nbformat_minor": 0,
 "worksheets": [
  {
   "cells": [
    {
     "cell_type": "code",
     "collapsed": false,
     "input": "import sys\nimport datetime\nimport urllib\nfrom bs4 import BeautifulSoup\n\noneDay = datetime.timedelta(days = 1)\nkboUrl = \"http://www.koreabaseball.com\"\nkboGameListUrl = \"http://www.koreabaseball.com/GameCast/GameList.aspx?searchDate=\"\nkboPitcherSearchUrls = ['http://www.koreabaseball.com/Record/PlayerSearch.aspx?position=%ED%88%AC']\nkboBatterSearchUrls = ['http://www.koreabaseball.com/Record/PlayerSearch.aspx?position=%ED%8F%AC'\n, 'http://www.koreabaseball.com/Record/PlayerSearch.aspx?position=%EB%82%B4'\n, 'http://www.koreabaseball.com/Record/PlayerSearch.aspx?position=%EC%99%B8']\n\ndef Dates(dates):\n    del dates[:]\n    startDate = datetime.date(2014, 3, 29)\n    endDate = datetime.date.today()\n    while startDate != endDate:\n        dates.append(startDate)\n        startDate += oneDay\n\ndef BoxScoreUrls(boxScoreUrls, date = ''):\n    del boxScoreUrls[:]\n    if not date:\n        d = datetime.date.today()\n        d -= oneDay\n    else:\n        d = datetime.datetime.strptime(date, '%Y-%m-%d')\n    data = urllib.urlopen(kboGameListUrl + str(d))\n    soup = BeautifulSoup(data)\n    btns = soup.findAll(\"div\", {\"class\" : \"btnSms\"})\n    for btn in btns:\n        link = btn.find_all('a')[1]['href']\n        boxScoreUrls.append(kboUrl + link)\n\ndef PlayerUrls(pitcherUrls, batterUrls):\n    del pitcherUrls[:]\n    del batterUrls[:]\n    for url in kboPitcherSearchUrls:\n        data = urllib.urlopen(url)\n        soup = BeautifulSoup(data)\n        playerLists = soup.findAll(\"ul\", {\"class\" : \"playerList\"})\n        for playerList in playerLists:\n            for a in playerList.findAll(\"a\"):\n                pitcherUrls.append(kboUrl + a['href'])\n    for url in kboBatterSearchUrls:\n        data = urllib.urlopen(url)\n        soup = BeautifulSoup(data)\n        playerLists = soup.findAll(\"ul\", {\"class\" : \"playerList\"})\n        for playerList in playerLists:\n            for a in playerList.findAll(\"a\"):\n                batterUrls.append(kboUrl + a['href'])",
     "language": "python",
     "metadata": {},
     "outputs": [],
     "prompt_number": 2
    },
    {
     "cell_type": "code",
     "collapsed": false,
     "input": "pitcherUrls = []\nbatterUrls = []\nPlayerUrls(pitcherUrls, batterUrls)",
     "language": "python",
     "metadata": {},
     "outputs": [],
     "prompt_number": 3
    },
    {
     "cell_type": "code",
     "collapsed": false,
     "input": "data = urllib.urlopen('http://www.koreabaseball.com/Record/PitcherDetail1.aspx?pcode=79229')\nsoup = BeautifulSoup(data)\nimg = soup.findAll('span', {'class':'photo'})[0].img\nprint kboUrl + img['src']\nplayerBox = soup.findAll('div', {'class':'playerBox'})\nls = playerBox[0].findAll('li')\nprint ls[0].contents[1].strip()\nprint ls[2].contents[1].strip()\nprint ls[4].contents[1].split('/')[0].strip()[:-2]\nprint ls[4].contents[1].split('/')[1].strip()[:-2]\nprint playerBox[0].h4.contents[2].strip()\nprint ls[1].contents[1].strip()[3:]\nprint ls[3].contents[1].strip()\nprint ls[7].contents[1].strip()[:-2]\nprint ls[6].contents[1].strip()[:-2]\nprint ls[9].contents[1].strip()\nprint ls[5].contents[1].strip()",
     "language": "python",
     "metadata": {},
     "outputs": [
      {
       "output_type": "stream",
       "stream": "stdout",
       "text": "http://www.koreabaseball.com/file/person/middle/79229.jpg\n\uc720\ud76c\uad00\n1986\ub144 06\uc6d4 01\uc77c\n180\n88\n\ub450\uc0b0 \ubca0\uc5b4\uc2a4\n29\n\ud22c\uc218(\uc88c\ud22c\uc88c\ud0c0)\n10000\n4000\n09\ub450\uc0b0\n\ubc29\ubc30\ucd08-\uc774\uc218\uc911-\uc7a5\ucda9\uace0-\uc911\uc559\ub300-\ub450\uc0b0-\uc0c1\ubb34\n"
      }
     ],
     "prompt_number": 4
    },
    {
     "cell_type": "code",
     "collapsed": false,
     "input": "score = soup.findAll('table', {'class':'tData'})\ntds = score[0].find_all('tr')[1].find_all('td')\ntds2 = score[1].find_all('tr')[1].find_all('td')\nif len(tds) > 1 and len(tds2) > 1:\n    print tds[0].contents[0].strip()\n    print tds[1].contents[0].strip()\n    print tds[2].contents[0].strip()\n    print tds[3].contents[0].strip()\n    print tds[4].contents[0].strip()\n    print tds[5].contents[0].strip()\n    print tds[6].contents[0].strip()\n    print tds[7].contents[0].strip()\n    print tds[8].contents[0].strip()\n    print tds[9].contents[0].strip()\n    print tds[10].contents[0].strip()\n    print tds[11].contents[0].strip()\n    print tds[12].contents[0].strip()\n    print tds[13].contents[0].strip()\n    print tds[14].contents[0].strip()\n    print tds[15].contents[0].strip()\n    print tds[16].contents[0].strip()\n    print tds2[0].contents[0].strip()\n    print tds2[1].contents[0].strip()\n    print tds2[2].contents[0].strip()\n    print tds2[3].contents[0].strip()\n    print tds2[4].contents[0].strip()\n    print tds2[5].contents[0].strip()\n    print tds2[6].contents[0].strip()\n    print tds2[7].contents[0].strip()\n    print tds2[8].contents[0].strip()\n    print tds2[9].contents[0].strip()\n    print tds2[10].contents[0].strip()\n    print tds2[11].contents[0].strip()\n    print tds2[12].contents[0].strip()\n    print tds2[13].contents[0].strip()",
     "language": "python",
     "metadata": {},
     "outputs": [
      {
       "output_type": "stream",
       "stream": "stdout",
       "text": "\ub450\uc0b0\n2.04\n5\n0\n0\n3\n0\n0\n0\n1.000\n136\n526\n35 1/3\n29\n6\n0\n3\n1\n1\n6\n0\n1\n23\n0\n0\n8\n8\n0\n0.99\n0.228\n4\n"
      }
     ],
     "prompt_number": 5
    },
    {
     "cell_type": "code",
     "collapsed": false,
     "input": "data = urllib.urlopen('http://www.koreabaseball.com/Record/PitcherDetail2.aspx?pcode=79229')\nsoup = BeautifulSoup(data)\nscores = soup.findAll('table', {'class':'tData'})\nfor score in scores:\n    trs = score.find_all('tr')\n    for tr in trs:\n        tds = tr.find_all('td')\n        if len(tds) > 1:\n            print tds[0].contents[0].strip()\n            print tds[1].contents[0].strip()\n            print tds[2].contents[0].strip()\n            print tds[3].contents[0].strip()\n            print tds[4].contents[0].strip()\n            print tds[5].contents[0].strip()\n            print tds[6].contents[0].strip()\n            print tds[7].contents[0].strip()\n            print tds[8].contents[0].strip()\n            print tds[9].contents[0].strip()\n            print tds[10].contents[0].strip()\n            print tds[11].contents[0].strip()\n            print tds[12].contents[0].strip()\n            print tds[13].contents[0].strip()\n            print tds[14].contents[0].strip()",
     "language": "python",
     "metadata": {},
     "outputs": [
      {
       "output_type": "stream",
       "stream": "stdout",
       "text": "04.01\n\ub125\uc13c\n\uc120\ubc1c\n4.76\n\n26\n5 2/3\n10\n1\n0\n0\n6\n3\n3\n0.385\n04.06\nKIA\n\uc120\ubc1c\n1.29\n\uc2b9\n25\n7\n5\n0\n1\n0\n3\n1\n1\n0.217\n04.15\n\uc0bc\uc131\n\uc120\ubc1c\n1.04\n\uc2b9\n30\n8 2/3\n3\n1\n2\n0\n4\n1\n1\n0.107\n04.20\n\ub86f\ub370\n\uc120\ubc1c\n1.29\n\n27\n7\n4\n1\n2\n1\n3\n1\n1\n0.167\n04.26\nNC\n\uc120\ubc1c\n2.57\n\uc2b9\n28\n7\n7\n0\n1\n0\n7\n2\n2\n0.269\n"
      }
     ],
     "prompt_number": 6
    },
    {
     "cell_type": "code",
     "collapsed": false,
     "input": "data = urllib.urlopen('http://www.koreabaseball.com/Record/HitterDetail1.aspx?pcode=74540')\nsoup = BeautifulSoup(data)\nimg = soup.findAll('span', {'class':'photo'})[0].img\nprint kboUrl + img['src']\nplayerBox = soup.findAll('div', {'class':'playerBox'})\nls = playerBox[0].findAll('li')\nprint ls[0].contents[1].strip()\nprint ls[2].contents[1].strip()\nprint ls[4].contents[1].split('/')[0].strip()\nprint ls[4].contents[1].split('/')[1].strip()\nprint playerBox[0].h4.contents[2].strip()\nprint ls[1].contents[1].strip()\nprint ls[3].contents[1].strip()\nprint ls[7].contents[1].strip()\nprint ls[6].contents[1].strip()\nprint ls[9].contents[1].strip()\nprint ls[5].contents[1].strip()",
     "language": "python",
     "metadata": {},
     "outputs": [
      {
       "output_type": "stream",
       "stream": "stdout",
       "text": "http://www.koreabaseball.com/file/person/middle/74540.jpg\n\uac15\ubbfc\ud638\n1985\ub144 08\uc6d4 18\uc77c\n186cm\n100kg\n\ub86f\ub370 \uc790\uc774\uc5b8\uce20\nNo.47\n\ud3ec\uc218(\uc6b0\ud22c\uc6b0\ud0c0)\n100000\ub9cc\uc6d0\n9000\ub9cc\uc6d0\n04\ub86f\ub370\n\uc81c\uc8fc\uc2e0\uad11\ucd08-\ud3ec\ucca0\uc911-\ud3ec\ucca0\uacf5\uace0-(\uad6d\uc81c\ub514\uc9c0\ud138\ub300)\n"
      }
     ],
     "prompt_number": 7
    },
    {
     "cell_type": "code",
     "collapsed": false,
     "input": "data = urllib.urlopen('http://www.koreabaseball.com/Record/HitterDetail1.aspx?pcode=74540')\nsoup = BeautifulSoup(data)\nscore = soup.findAll('table', {'class':'tData'})\ntds = score[0].find_all('tr')[1].find_all('td')\ntds2 = score[1].find_all('tr')[1].find_all('td')\nif len(tds) > 1 and len(tds2) > 1:\n    print tds[0].contents[0].strip()\n    print tds[1].contents[0].strip()\n    print tds[2].contents[0].strip()\n    print tds[3].contents[0].strip()\n    print tds[4].contents[0].strip()\n    print tds[5].contents[0].strip()\n    print tds[6].contents[0].strip()\n    print tds[7].contents[0].strip()\n    print tds[8].contents[0].strip()\n    print tds[9].contents[0].strip()\n    print tds[10].contents[0].strip()\n    print tds[11].contents[0].strip()\n    print tds[12].contents[0].strip()\n    print tds[13].contents[0].strip()\n    print tds[14].contents[0].strip()\n    print tds[15].contents[0].strip()\n    print tds2[0].contents[0].strip()\n    print tds2[1].contents[0].strip()\n    print tds2[2].contents[0].strip()\n    print tds2[3].contents[0].strip()\n    print tds2[4].contents[0].strip()\n    print tds2[5].contents[0].strip()\n    print tds2[6].contents[0].strip()\n    print tds2[7].contents[0].strip()\n    print tds2[8].contents[0].strip()\n    print tds2[9].contents[0].strip()\n    print tds2[10].contents[0].strip()\n    print tds2[11].contents[0].strip()\n    print tds2[12].contents[0].strip()\n    print tds2[13].contents[0].strip()\n    print tds2[14].contents[0].strip()",
     "language": "python",
     "metadata": {},
     "outputs": [
      {
       "output_type": "stream",
       "stream": "stdout",
       "text": "\ub86f\ub370\n0.228\n22\n89\n79\n10\n18\n2\n0\n6\n38\n11\n1\n0\n0\n2\n6\n1\n2\n29\n1\n0.481\n0.292\n1\n100.0%\n0.21\n0.444\n4\n0.773\n0.100\n-\n"
      }
     ],
     "prompt_number": 8
    },
    {
     "cell_type": "code",
     "collapsed": false,
     "input": "data = urllib.urlopen('http://www.koreabaseball.com/Record/HitterDetail2.aspx?pcode=74540')\nsoup = BeautifulSoup(data)\nscores = soup.findAll('table', {'class':'tData'})\nfor score in scores:\n    trs = score.find_all('tr')\n    for tr in trs:\n        tds = tr.find_all('td')\n        if len(tds) > 1:\n            print tds[0].contents[0].strip()\n            print tds[1].contents[0].strip()\n            print tds[2].contents[0].strip()\n            print tds[3].contents[0].strip()\n            print tds[4].contents[0].strip()\n            print tds[5].contents[0].strip()\n            print tds[6].contents[0].strip()\n            print tds[7].contents[0].strip()\n            print tds[8].contents[0].strip()\n            print tds[9].contents[0].strip()\n            print tds[10].contents[0].strip()\n            print tds[11].contents[0].strip()\n            print tds[12].contents[0].strip()\n            print tds[13].contents[0].strip()\n            print tds[14].contents[0].strip()\n            print tds[15].contents[0].strip()",
     "language": "python",
     "metadata": {},
     "outputs": [
      {
       "output_type": "stream",
       "stream": "stdout",
       "text": "03.30\n\ud55c\ud654\n0.000\n3\n0\n0\n0\n0\n0\n0\n0\n0\n1\n0\n1\n0\n03.31\n\ud55c\ud654\n0.400\n5\n2\n2\n0\n0\n2\n3\n0\n0\n0\n0\n2\n0\n04.04\n\uc0bc\uc131\n0.000\n3\n0\n0\n0\n0\n0\n0\n0\n0\n1\n0\n1\n0\n04.05\n\uc0bc\uc131\n0.000\n3\n0\n0\n0\n0\n0\n1\n0\n0\n0\n0\n1\n0\n04.06\n\uc0bc\uc131\n0.333\n3\n0\n1\n0\n0\n0\n0\n0\n0\n0\n0\n2\n0\n04.08\nLG\n0.167\n6\n0\n1\n0\n0\n0\n0\n0\n0\n0\n0\n4\n0\n04.09\nLG\n0.333\n3\n1\n1\n0\n0\n1\n2\n0\n0\n0\n1\n0\n0\n04.10\nLG\n0.250\n4\n0\n1\n0\n0\n0\n0\n1\n0\n0\n0\n1\n0\n04.11\nKIA\n0.000\n3\n1\n0\n0\n0\n0\n0\n0\n0\n1\n1\n2\n1\n04.12\nKIA\n0.250\n4\n0\n1\n1\n0\n0\n0\n0\n0\n0\n0\n1\n0\n04.13\nKIA\n0.667\n3\n1\n2\n0\n0\n1\n2\n0\n0\n0\n0\n0\n0\n04.15\nNC\n0.333\n3\n0\n1\n1\n0\n0\n0\n0\n0\n0\n0\n1\n0\n04.16\nNC\n0.000\n1\n0\n0\n0\n0\n0\n0\n0\n0\n1\n0\n1\n0\n04.18\n\ub450\uc0b0\n0.250\n4\n1\n1\n0\n0\n0\n0\n0\n0\n0\n0\n1\n0\n04.19\n\ub450\uc0b0\n0.000\n2\n1\n0\n0\n0\n0\n0\n0\n0\n2\n0\n2\n0\n04.20\n\ub450\uc0b0\n0.500\n4\n1\n2\n0\n0\n1\n1\n0\n0\n0\n0\n0\n0\n04.22\n\ub125\uc13c\n0.000\n5\n0\n0\n0\n0\n0\n0\n0\n0\n0\n0\n3\n0\n04.23\n\ub125\uc13c\n0.000\n5\n0\n0\n0\n0\n0\n0\n0\n0\n0\n0\n1\n0\n04.24\n\ub125\uc13c\n0.250\n4\n1\n1\n0\n0\n0\n0\n0\n0\n0\n0\n2\n0\n04.25\nSK\n0.250\n4\n0\n1\n0\n0\n0\n0\n0\n0\n0\n0\n1\n0\n04.26\nSK\n0.750\n4\n1\n3\n0\n0\n1\n2\n0\n0\n0\n0\n1\n0\n04.27\nSK\n0.000\n3\n0\n0\n0\n0\n0\n0\n0\n0\n0\n0\n1\n0\n"
      }
     ],
     "prompt_number": 9
    },
    {
     "cell_type": "code",
     "collapsed": false,
     "input": "data = urllib.urlopen('http://www.koreabaseball.com/TeamRank/TeamRank.aspx')\nsoup = BeautifulSoup(data)\nscores = soup.findAll('table', {'class':'tData'})\nteams = []\nfor tr in scores[0].find_all('tr'):\n    tds = tr.find_all('td')\n    if len(tds) > 1:\n        teams.append(tds[1].contents[0])\nprint teams",
     "language": "python",
     "metadata": {},
     "outputs": [
      {
       "output_type": "stream",
       "stream": "stdout",
       "text": "[u'\\ub125\\uc13c', u'NC', u'SK', u'\\ub450\\uc0b0', u'\\uc0bc\\uc131', u'\\ub86f\\ub370', u'KIA', u'\\ud55c\\ud654', u'LG']\n"
      }
     ],
     "prompt_number": 20
    },
    {
     "cell_type": "code",
     "collapsed": false,
     "input": "",
     "language": "python",
     "metadata": {},
     "outputs": [
      {
       "output_type": "stream",
       "stream": "stdout",
       "text": "[u'\\ub125\\uc13c', u'NC', u'SK', u'\\ub450\\uc0b0', u'\\uc0bc\\uc131', u'\\ub86f\\ub370', u'KIA', u'\\ud55c\\ud654', u'LG']\n"
      }
     ],
     "prompt_number": 19
    },
    {
     "cell_type": "code",
     "collapsed": false,
     "input": "",
     "language": "python",
     "metadata": {},
     "outputs": [
      {
       "output_type": "stream",
       "stream": "stdout",
       "text": "No.29\n\ud22c\uc218(\uc88c\ud22c\uc88c\ud0c0)\n10000\ub9cc\uc6d0\n4000\ub9cc\uc6d0\n09\ub450\uc0b0\n\ubc29\ubc30\ucd08-\uc774\uc218\uc911-\uc7a5\ucda9\uace0-\uc911\uc559\ub300-\ub450\uc0b0-\uc0c1\ubb34\n"
      }
     ],
     "prompt_number": 82
    },
    {
     "cell_type": "code",
     "collapsed": false,
     "input": "",
     "language": "python",
     "metadata": {},
     "outputs": [],
     "prompt_number": 83
    },
    {
     "cell_type": "code",
     "collapsed": false,
     "input": "",
     "language": "python",
     "metadata": {},
     "outputs": [],
     "prompt_number": 97
    },
    {
     "cell_type": "code",
     "collapsed": false,
     "input": "",
     "language": "python",
     "metadata": {},
     "outputs": [
      {
       "output_type": "stream",
       "stream": "stdout",
       "text": "\ub450\uc0b0\n2.04\n5\n0\n0\n3\n0\n0\n0\n1.000\n136\n526\n35 1/3\n29\n6\n0\n3\n1\n1\n6\n0\n1\n23\n0\n0\n8\n8\n0\n0.99\n0.228\n4\n"
      }
     ],
     "prompt_number": 100
    },
    {
     "cell_type": "code",
     "collapsed": false,
     "input": "",
     "language": "python",
     "metadata": {},
     "outputs": [],
     "prompt_number": 102
    },
    {
     "cell_type": "code",
     "collapsed": false,
     "input": "",
     "language": "python",
     "metadata": {},
     "outputs": []
    }
   ],
   "metadata": {}
  }
 ]
}